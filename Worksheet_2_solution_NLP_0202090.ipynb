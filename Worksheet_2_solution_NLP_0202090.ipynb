{
  "nbformat": 4,
  "nbformat_minor": 0,
  "metadata": {
    "colab": {
      "provenance": []
    },
    "kernelspec": {
      "name": "python3",
      "display_name": "Python 3"
    },
    "language_info": {
      "name": "python"
    }
  },
  "cells": [
    {
      "cell_type": "code",
      "source": [
        "nltk.download('punkt');"
      ],
      "metadata": {
        "colab": {
          "base_uri": "https://localhost:8080/"
        },
        "id": "0_Jtw3jgqtur",
        "outputId": "511e114e-8757-400e-877b-59b86186aab9"
      },
      "execution_count": 6,
      "outputs": [
        {
          "output_type": "stream",
          "name": "stderr",
          "text": [
            "[nltk_data] Downloading package punkt to /root/nltk_data...\n",
            "[nltk_data]   Package punkt is already up-to-date!\n"
          ]
        }
      ]
    },
    {
      "cell_type": "code",
      "execution_count": 7,
      "metadata": {
        "colab": {
          "base_uri": "https://localhost:8080/"
        },
        "id": "gkieRzKRqTIx",
        "outputId": "8360a577-e578-4a56-f9ef-564fb4b78ab1"
      },
      "outputs": [
        {
          "output_type": "stream",
          "name": "stdout",
          "text": [
            "Number of characters in the Qur'an text: 689411\n"
          ]
        }
      ],
      "source": [
        "import nltk\n",
        "import re\n",
        "\n",
        "# 1- Read the Qur'an text file and store the Quran text in a variable\n",
        "with open(\"quran-simple.txt\", \"r\", encoding=\"utf8\") as f:\n",
        "    quran_text = f.read()\n",
        "print(f\"Number of characters in the Qur'an text: {len(quran_text)}\")"
      ]
    },
    {
      "cell_type": "code",
      "source": [
        "# 2- Tokenize the Quran text and store the tokenized text in a list\n",
        "quran_words = nltk.word_tokenize(quran_text)\n",
        "print(f\"Number of words in the Qur'an: {len(quran_words)}\")"
      ],
      "metadata": {
        "colab": {
          "base_uri": "https://localhost:8080/"
        },
        "id": "wycFOKtsqgy_",
        "outputId": "75dc749a-595a-431a-a805-6e8e2870a25d"
      },
      "execution_count": 8,
      "outputs": [
        {
          "output_type": "stream",
          "name": "stdout",
          "text": [
            "Number of words in the Qur'an: 78245\n"
          ]
        }
      ]
    },
    {
      "cell_type": "code",
      "source": [
        "# 3- Design a regular expression that captures the Quranic words with Qalqalah sughra\n",
        "qalqalah_sughra_pattern = r\"[بدطقج][ْ]\"\n",
        "\n",
        "qalqalah_sughra_list = []\n",
        "for word in quran_words:\n",
        "    if re.search(qalqalah_sughra_pattern, word):\n",
        "        qalqalah_sughra_list.append(word)\n",
        "\n",
        "print(f\"Number of words in the Qur'an that contains Qalqalah sughra: {len(qalqalah_sughra_list)}\")\n",
        "\n",
        "qalqalah_sughra_list"
      ],
      "metadata": {
        "id": "76UnqG-Tqk7M"
      },
      "execution_count": null,
      "outputs": []
    },
    {
      "cell_type": "code",
      "source": [
        "# 4- Print the first 50 words from the Qalqalah Sughra list\n",
        "print(\"First 50 words from the Qalqalah Sughra list:\")\n",
        "print(qalqalah_sughra_list[:50])"
      ],
      "metadata": {
        "colab": {
          "base_uri": "https://localhost:8080/"
        },
        "id": "Efznk-P8rDv0",
        "outputId": "7e2784f6-f4ae-4d0b-f927-b5fa57a19223"
      },
      "execution_count": 58,
      "outputs": [
        {
          "output_type": "stream",
          "name": "stdout",
          "text": [
            "First 50 words from the Qalqalah Sughra list:\n",
            "['رَزَقْنَاهُمْ', 'قَبْلِكَ', 'أَبْصَارِهِمْ', 'يُبْصِرُونَ', 'يَجْعَلُونَ', 'أَبْصَارَهُمْ', 'وَأَبْصَارِهِمْ', 'قَبْلِكُمْ', 'تَجْعَلُوا', 'عَبْدِنَا', 'وَادْعُوا', 'تَجْرِي', 'رُزِقْنَا', 'قَبْلُ', 'وَيَقْطَعُونَ', 'سَبْعَ', 'أَتَجْعَلُ', 'سُبْحَانَكَ', 'تُبْدُونَ', 'إِبْلِيسَ', 'تَقْرَبَا', 'بِالصَّبْرِ', 'تَجْزِي', 'يُقْبَلُ', 'عَدْلٌ', 'أَبْنَاءَكُمْ', 'فَرَقْنَا', 'وَأَغْرَقْنَا', 'وَاعَدْنَا', 'الْعِجْلَ', 'الْعِجْلَ', 'فَاقْتُلُوا', 'رَزَقْنَاكُمْ', 'ادْخُلُوا', 'وَادْخُلُوا', 'رِجْزًا', 'اضْرِبْ', 'قَدْ', 'فَادْعُ', 'يُخْرِجْ', 'بَقْلِهَا', 'أَتَسْتَبْدِلُونَ', 'أَدْنَى', 'وَيَقْتُلُونَ', 'أَجْرُهُمْ', 'وَلَقَدْ', 'السَّبْتِ', 'ادْعُ', 'ادْعُ', 'ادْعُ']\n"
          ]
        }
      ]
    },
    {
      "cell_type": "code",
      "source": [
        "# 5- Print the different words (types) of that contains Qalqalah\n",
        "qalqalah_kubra_pattern = r\"[بدطقج][ًٌٍَُِّْ]+$\"\n",
        "\n",
        "qalqalah_kubra_list = []\n",
        "for word in quran_words:\n",
        "    if re.search(qalqalah_kubra_pattern, word):\n",
        "        qalqalah_kubra_list.append(word)\n",
        "\n",
        "print(f\"Number of words in the Qur'an that contains Qalqalah kubra: {len(qalqalah_kubra_list)}\")\n",
        "\n",
        "qalqalah_words = qalqalah_kubra_list + qalqalah_sughra_list\n",
        "\n",
        "print(f\"Number of different words in the Qur'an that contains Qalqalah: {len(qalqalah_words)}\")"
      ],
      "metadata": {
        "colab": {
          "base_uri": "https://localhost:8080/"
        },
        "id": "_SAJpYoZ9dnl",
        "outputId": "31117c7a-0220-4902-84ad-eb2235f83354"
      },
      "execution_count": 118,
      "outputs": [
        {
          "output_type": "stream",
          "name": "stdout",
          "text": [
            "Number of words in the Qur'an that contains Qalqalah kubra: 4469\n",
            "Number of different words in the Qur'an that contains Qalqalah: 7939\n"
          ]
        }
      ]
    },
    {
      "cell_type": "code",
      "source": [
        "with open(\"qalqalah_words.txt\", \"w\", encoding='utf-8') as f:\n",
        "    for word in qalqalah_words:\n",
        "        f.write(word + \"\\n\")\n",
        "\n",
        "print(\"Number of words stored in the file: \", len(qalqalah_words))"
      ],
      "metadata": {
        "colab": {
          "base_uri": "https://localhost:8080/"
        },
        "id": "r1-qQvYdMyK4",
        "outputId": "37ac65bc-ab48-4c5d-c37c-6f428428e7d9"
      },
      "execution_count": 119,
      "outputs": [
        {
          "output_type": "stream",
          "name": "stdout",
          "text": [
            "Number of words stored in the file:  7939\n"
          ]
        }
      ]
    }
  ]
}